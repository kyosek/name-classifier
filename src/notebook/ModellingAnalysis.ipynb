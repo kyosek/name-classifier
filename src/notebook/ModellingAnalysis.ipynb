{
 "cells": [
  {
   "cell_type": "markdown",
   "metadata": {},
   "source": [
    "# Modelling Analysis\n",
    "## Summary of the analysis\n",
    "Despite of the fact that the class distribution is imbalanced, Naïve Bayes model worked quite well. This model is quite simple but its accuracy is quite well compared to Random undersampling + Bagging and FastText model and still it's very fast to train and the model size is also light. This model achieved accuracy score = 0.6869 on the test set.\n",
    "\n",
    "### Naïve Bayes\n",
    "From the heatmap of the confusion matrix, we can see that the model predictions are good overall. There are some misclassifications among \"Artist\", \"Athlete\" and \"OfficeHolder\" as expected. Also \"Animal\", \"Village\" and \"Plant\" seem to be difficult task to classify correctly. Yet, there's one concern about the \"WrittenWork\" class (=14). As this class was the minor class, it seems this class's classification wasn't quite well.\n",
    "\n",
    "### Random undersampling + Bagging\n",
    "As a result, it improved quite a bit for the minor class (=14), however worse off in most other classes, especially the model is misclassifying \"Company\" names as \"Vilage\" and \"Animal\" names, which is quite interesting for me as Company names do sound different from both Village and Animal names and there was similar tendency in Naïve Bayes model as well.\n",
    "\n",
    "It would still depend on how important to classify class = 14 correctly, but I feel Naïve Bayes model is still doing better in general.\n",
    "\n",
    "### FastText\n",
    "Its accuracy is 0.7070 on the test set, which means successfully improved the score of Naïve Bayes. Yet since I couldn't figure out how to do the evaluation propoerly with this library, I will not use this model. But it is good to know that n-gram feture might be one of the reason why the model performance improved a bit so that I can try it with Naïve Bayes model. \n",
    "\n",
    "I did a little experiment with this model. I ran this model against some names and saw what will be the predicted class. When I tried with \"streetbees ltd\", it returned \"Company\" with likelihood of 0.9999. I think it is coming from \"ltd\". Also I tried with a bit mean example \"naoya inoue\", who is a Japanese boxer (there's no his name in the dataset), but the model successfully classified as \"Athlete\" with likelihood of 0.5777.\n",
    "\n",
    "## Table of contents\n",
    "- [Naïve Bayes model](#Naïve-Bayes-model)\n",
    "- [Random undersampling + Bagging model](#Random-undersampling-+-Bagging-model)\n",
    "- [FastText model](#FastText-model)\n",
    "- [Flair model](#Flair-model)"
   ]
  },
  {
   "cell_type": "code",
   "execution_count": 56,
   "metadata": {},
   "outputs": [],
   "source": [
    "# Import modules\n",
    "import csv\n",
    "import re\n",
    "import os\n",
    "import io\n",
    "from typing import List\n",
    "import pandas as pd\n",
    "import numpy as np\n",
    "import seaborn as sns\n",
    "import matplotlib.pyplot as plt\n",
    "import fasttext\n",
    "import pickle\n",
    "from sklearn.model_selection import train_test_split\n",
    "from sklearn.feature_extraction.text import CountVectorizer, TfidfTransformer\n",
    "from sklearn.pipeline import Pipeline\n",
    "from sklearn.naive_bayes import MultinomialNB\n",
    "from imblearn.ensemble import BalancedBaggingClassifier\n",
    "from sklearn.metrics import accuracy_score, confusion_matrix, f1_score\n",
    "from flair.datasets import ClassificationCorpus, CSVClassificationCorpus\n",
    "from flair.data import Corpus\n",
    "from flair.embeddings import WordEmbeddings, FlairEmbeddings, DocumentLSTMEmbeddings\n",
    "from flair.models import TextClassifier\n",
    "from flair.trainers import ModelTrainer\n",
    "from pathlib import Path"
   ]
  },
  {
   "cell_type": "code",
   "execution_count": 2,
   "metadata": {},
   "outputs": [],
   "source": [
    "os.chdir(\"/Users/kyosuke/projects/Streetbees\")"
   ]
  },
  {
   "cell_type": "code",
   "execution_count": 3,
   "metadata": {},
   "outputs": [],
   "source": [
    "pd.options.display.max_rows = None\n",
    "pd.options.display.max_columns = None"
   ]
  },
  {
   "cell_type": "code",
   "execution_count": 4,
   "metadata": {},
   "outputs": [],
   "source": [
    "def cleanNames(text, word_length=1):\n",
    "    \"\"\"Clean the text feature to be consumable for the model training\n",
    "    Process:\n",
    "    1. Remove all numbers\n",
    "    2. Remove punctuation: `?` `!` `'` `\"` `#` `:`\n",
    "    3. Replace separators with spaces: `.` `,` `)` `(` `\\` `/` `-`\n",
    "    4. Remove all words shorter than a configurable length\n",
    "    5. Replace sequences of more than one space with one space.\n",
    "    6. lower the cases\n",
    "\n",
    "    Args:\n",
    "        text (str): the text feature\n",
    "        word_length (int): the minimal length of a word\n",
    "\n",
    "    Return:\n",
    "        cleaned_text (str): cleaned text\n",
    "    \"\"\"\n",
    "\n",
    "    # 1. Remove all numbers\n",
    "    remove_numbers = str.maketrans(dict.fromkeys(\"0123456789\"))\n",
    "    modified_text = text.translate(remove_numbers)\n",
    "\n",
    "    # 2. Remove punctuation: `?` `!` `'` `\"` `#` `:` `~` `]` `[`\n",
    "    punctuation = set(\"!\\\"#':?~][\")\n",
    "    modified_text = \"\".join([i for i in modified_text if i not in punctuation])\n",
    "\n",
    "    # 3. Replace separators with spaces: `.` `,` `)` `(` `\\` `/` `-`\n",
    "    remove_punctuation = str.maketrans(dict.fromkeys(\".,)(\\/-\"))\n",
    "    modified_text = modified_text.translate(remove_punctuation)\n",
    "    \n",
    "    # 4. Remove all words shorter than a configurable length\n",
    "    # -> will set the default word length as 1\n",
    "    modified_text = \" \".join(\n",
    "        [w for w in modified_text.split() if len(w) > word_length]\n",
    "    )\n",
    "\n",
    "    # 5. Replace sequences of more than one space with one space.\n",
    "    modified_text = \" \".join(modified_text.split())\n",
    "    \n",
    "    # 6. lower the cases\n",
    "    cleaned_text = modified_text.lower()\n",
    "\n",
    "    return cleaned_text"
   ]
  },
  {
   "cell_type": "code",
   "execution_count": 5,
   "metadata": {},
   "outputs": [],
   "source": [
    "df = pd.read_csv(\"resources/data/data.csv\")"
   ]
  },
  {
   "cell_type": "code",
   "execution_count": 6,
   "metadata": {},
   "outputs": [],
   "source": [
    "df['cleaned_name'] = df['Name'].apply(lambda x: cleanNames(x))"
   ]
  },
  {
   "cell_type": "code",
   "execution_count": 7,
   "metadata": {},
   "outputs": [],
   "source": [
    "X_train, X_test, y_train, y_test = train_test_split(df[\"cleaned_name\"], df[\"Class\"], test_size=.3, random_state=42)"
   ]
  },
  {
   "cell_type": "code",
   "execution_count": 100,
   "metadata": {},
   "outputs": [
    {
     "data": {
      "text/html": [
       "<div>\n",
       "<style scoped>\n",
       "    .dataframe tbody tr th:only-of-type {\n",
       "        vertical-align: middle;\n",
       "    }\n",
       "\n",
       "    .dataframe tbody tr th {\n",
       "        vertical-align: top;\n",
       "    }\n",
       "\n",
       "    .dataframe thead th {\n",
       "        text-align: right;\n",
       "    }\n",
       "</style>\n",
       "<table border=\"1\" class=\"dataframe\">\n",
       "  <thead>\n",
       "    <tr style=\"text-align: right;\">\n",
       "      <th></th>\n",
       "      <th>Class</th>\n",
       "      <th>count</th>\n",
       "    </tr>\n",
       "  </thead>\n",
       "  <tbody>\n",
       "    <tr>\n",
       "      <th>5</th>\n",
       "      <td>1</td>\n",
       "      <td>28046</td>\n",
       "    </tr>\n",
       "    <tr>\n",
       "      <th>10</th>\n",
       "      <td>2</td>\n",
       "      <td>27932</td>\n",
       "    </tr>\n",
       "    <tr>\n",
       "      <th>7</th>\n",
       "      <td>3</td>\n",
       "      <td>28009</td>\n",
       "    </tr>\n",
       "    <tr>\n",
       "      <th>2</th>\n",
       "      <td>4</td>\n",
       "      <td>28070</td>\n",
       "    </tr>\n",
       "    <tr>\n",
       "      <th>11</th>\n",
       "      <td>5</td>\n",
       "      <td>27829</td>\n",
       "    </tr>\n",
       "    <tr>\n",
       "      <th>4</th>\n",
       "      <td>6</td>\n",
       "      <td>28055</td>\n",
       "    </tr>\n",
       "    <tr>\n",
       "      <th>9</th>\n",
       "      <td>7</td>\n",
       "      <td>27990</td>\n",
       "    </tr>\n",
       "    <tr>\n",
       "      <th>1</th>\n",
       "      <td>8</td>\n",
       "      <td>28132</td>\n",
       "    </tr>\n",
       "    <tr>\n",
       "      <th>12</th>\n",
       "      <td>9</td>\n",
       "      <td>27804</td>\n",
       "    </tr>\n",
       "    <tr>\n",
       "      <th>0</th>\n",
       "      <td>10</td>\n",
       "      <td>28163</td>\n",
       "    </tr>\n",
       "    <tr>\n",
       "      <th>8</th>\n",
       "      <td>11</td>\n",
       "      <td>27991</td>\n",
       "    </tr>\n",
       "    <tr>\n",
       "      <th>6</th>\n",
       "      <td>12</td>\n",
       "      <td>28023</td>\n",
       "    </tr>\n",
       "    <tr>\n",
       "      <th>3</th>\n",
       "      <td>13</td>\n",
       "      <td>28060</td>\n",
       "    </tr>\n",
       "    <tr>\n",
       "      <th>13</th>\n",
       "      <td>14</td>\n",
       "      <td>20046</td>\n",
       "    </tr>\n",
       "  </tbody>\n",
       "</table>\n",
       "</div>"
      ],
      "text/plain": [
       "    Class  count\n",
       "5       1  28046\n",
       "10      2  27932\n",
       "7       3  28009\n",
       "2       4  28070\n",
       "11      5  27829\n",
       "4       6  28055\n",
       "9       7  27990\n",
       "1       8  28132\n",
       "12      9  27804\n",
       "0      10  28163\n",
       "8      11  27991\n",
       "6      12  28023\n",
       "3      13  28060\n",
       "13     14  20046"
      ]
     },
     "execution_count": 100,
     "metadata": {},
     "output_type": "execute_result"
    }
   ],
   "source": [
    "class_distribution = pd.DataFrame(pd.DataFrame(y_train.value_counts()).reset_index())\n",
    "class_distribution.columns = [\"Class\",\"count\"]\n",
    "class_distribution.sort_values(\"Class\",ascending=True)"
   ]
  },
  {
   "cell_type": "code",
   "execution_count": 99,
   "metadata": {},
   "outputs": [
    {
     "data": {
      "text/html": [
       "<div>\n",
       "<style scoped>\n",
       "    .dataframe tbody tr th:only-of-type {\n",
       "        vertical-align: middle;\n",
       "    }\n",
       "\n",
       "    .dataframe tbody tr th {\n",
       "        vertical-align: top;\n",
       "    }\n",
       "\n",
       "    .dataframe thead th {\n",
       "        text-align: right;\n",
       "    }\n",
       "</style>\n",
       "<table border=\"1\" class=\"dataframe\">\n",
       "  <thead>\n",
       "    <tr style=\"text-align: right;\">\n",
       "      <th></th>\n",
       "      <th>Class</th>\n",
       "      <th>count</th>\n",
       "    </tr>\n",
       "  </thead>\n",
       "  <tbody>\n",
       "    <tr>\n",
       "      <th>7</th>\n",
       "      <td>1</td>\n",
       "      <td>11954</td>\n",
       "    </tr>\n",
       "    <tr>\n",
       "      <th>2</th>\n",
       "      <td>2</td>\n",
       "      <td>12068</td>\n",
       "    </tr>\n",
       "    <tr>\n",
       "      <th>5</th>\n",
       "      <td>3</td>\n",
       "      <td>11991</td>\n",
       "    </tr>\n",
       "    <tr>\n",
       "      <th>10</th>\n",
       "      <td>4</td>\n",
       "      <td>11930</td>\n",
       "    </tr>\n",
       "    <tr>\n",
       "      <th>1</th>\n",
       "      <td>5</td>\n",
       "      <td>12171</td>\n",
       "    </tr>\n",
       "    <tr>\n",
       "      <th>8</th>\n",
       "      <td>6</td>\n",
       "      <td>11945</td>\n",
       "    </tr>\n",
       "    <tr>\n",
       "      <th>3</th>\n",
       "      <td>7</td>\n",
       "      <td>12010</td>\n",
       "    </tr>\n",
       "    <tr>\n",
       "      <th>11</th>\n",
       "      <td>8</td>\n",
       "      <td>11868</td>\n",
       "    </tr>\n",
       "    <tr>\n",
       "      <th>0</th>\n",
       "      <td>9</td>\n",
       "      <td>12196</td>\n",
       "    </tr>\n",
       "    <tr>\n",
       "      <th>12</th>\n",
       "      <td>10</td>\n",
       "      <td>11837</td>\n",
       "    </tr>\n",
       "    <tr>\n",
       "      <th>4</th>\n",
       "      <td>11</td>\n",
       "      <td>12009</td>\n",
       "    </tr>\n",
       "    <tr>\n",
       "      <th>6</th>\n",
       "      <td>12</td>\n",
       "      <td>11977</td>\n",
       "    </tr>\n",
       "    <tr>\n",
       "      <th>9</th>\n",
       "      <td>13</td>\n",
       "      <td>11940</td>\n",
       "    </tr>\n",
       "    <tr>\n",
       "      <th>13</th>\n",
       "      <td>14</td>\n",
       "      <td>8741</td>\n",
       "    </tr>\n",
       "  </tbody>\n",
       "</table>\n",
       "</div>"
      ],
      "text/plain": [
       "    Class  count\n",
       "7       1  11954\n",
       "2       2  12068\n",
       "5       3  11991\n",
       "10      4  11930\n",
       "1       5  12171\n",
       "8       6  11945\n",
       "3       7  12010\n",
       "11      8  11868\n",
       "0       9  12196\n",
       "12     10  11837\n",
       "4      11  12009\n",
       "6      12  11977\n",
       "9      13  11940\n",
       "13     14   8741"
      ]
     },
     "execution_count": 99,
     "metadata": {},
     "output_type": "execute_result"
    }
   ],
   "source": [
    "class_distribution = pd.DataFrame(pd.DataFrame(y_test.value_counts()).reset_index())\n",
    "class_distribution.columns = [\"Class\",\"count\"]\n",
    "class_distribution.sort_values(\"Class\",ascending=True)"
   ]
  },
  {
   "cell_type": "markdown",
   "metadata": {},
   "source": [
    "## Naïve Bayes model\n",
    "First I will use Naïve bayes to train the model. The main reasons why I will use this algorithm are:\n",
    "\n",
    "__Pros__\n",
    "- Very simple and also works quite well for text classification\n",
    "- Computationally cheap\n",
    "\n",
    "Yet, there are a few disadvantages for this algorithm:\n",
    "\n",
    "__Cons__\n",
    "- When the name didn't appeared in training set and appeared in test set, the likelihood will be calculated by laplacian smoothing\n",
    "- Strong independence assumption\n",
    "\n",
    "For the input, I have transformed given \"Names\" into TF-IDF matrix. The accuracy for test set is 0.6869\n",
    "\n",
    "From the heatmap of the confusion matrix, we can see that the model predictions are good overall. There are some misclassifications among \"Artist\", \"Athlete\" and \"OfficeHolder\" as expected. Also \"Animal\", \"Village\" and \"Plant\" seem to be difficult task to classify correctly. Yet, there's one concern about the \"WrittenWork\" class (=14). As this class was the minor class, it seems this class's classification wasn't quite well.\n",
    "\n",
    "Next, I will try to use random undersampling + bagging to see if this point can be improved."
   ]
  },
  {
   "cell_type": "code",
   "execution_count": 31,
   "metadata": {},
   "outputs": [],
   "source": [
    "nb_clf = Pipeline([('vect', CountVectorizer()),\n",
    "                     ('tfidf', TfidfTransformer()),\n",
    "                     ('clf', MultinomialNB(alpha=1)),])"
   ]
  },
  {
   "cell_type": "code",
   "execution_count": 69,
   "metadata": {},
   "outputs": [],
   "source": [
    "nb_clf.fit(X_train, y_train)\n",
    "pickle.dump(nb_clf, open(\"resources/models/nb_model.pkl\", \"wb\"))\n",
    "prediction_train = nb_clf.predict(X_train)\n",
    "prediction = nb_clf.predict(X_test)"
   ]
  },
  {
   "cell_type": "code",
   "execution_count": 70,
   "metadata": {},
   "outputs": [
    {
     "name": "stdout",
     "output_type": "stream",
     "text": [
      "Accuracy for training set is 0.8807\n",
      "Accuracy for test set is 0.6869\n"
     ]
    }
   ],
   "source": [
    "print(\"Accuracy for training set is \" + str(round(accuracy_score(y_train, prediction_train),4)))\n",
    "print(\"Accuracy for test set is \" + str(round(accuracy_score(y_test, prediction),4)))"
   ]
  },
  {
   "cell_type": "code",
   "execution_count": 71,
   "metadata": {},
   "outputs": [
    {
     "data": {
      "text/plain": [
       "array([[ 6377,   459,   128,   112,   145,   396,   590,    83,    36,\n",
       "         2680,     8,   490,   282,   168],\n",
       "       [   68, 11531,     8,     7,    17,    10,   275,    10,     7,\n",
       "           80,     2,    16,    26,    11],\n",
       "       [   78,   141,  4533,  2591,  2641,   157,   223,   122,   100,\n",
       "          787,    23,   340,   240,    15],\n",
       "       [   43,    93,  2077,  6242,  2183,    89,   162,    67,   100,\n",
       "          636,    15,    98,   119,     6],\n",
       "       [   37,   161,  2026,  2187,  6388,   104,   311,    62,   121,\n",
       "          548,     9,    89,   125,     3],\n",
       "       [  252,    84,    76,    86,   102, 10649,   115,    40,    18,\n",
       "          252,     9,   127,   117,    18],\n",
       "       [  187,   549,    29,    21,    35,    64, 10464,    96,    27,\n",
       "          246,     0,   129,   135,    28],\n",
       "       [   38,   191,    27,    36,    37,    55,   329,  9238,    69,\n",
       "         1629,     8,    65,   143,     3],\n",
       "       [   31,   184,    28,    42,    53,    29,   207,    99,  6791,\n",
       "         4635,     3,    45,    41,     8],\n",
       "       [   38,    34,    29,    17,    30,   166,    46,    94,    18,\n",
       "        10728,   439,    69,   116,    13],\n",
       "       [   22,    14,    18,     8,    11,    25,    16,    30,     1,\n",
       "         1909,  9903,    23,    26,     3],\n",
       "       [  165,    77,    61,    43,    41,    85,   175,    52,    16,\n",
       "          628,    13,  9113,  1332,   176],\n",
       "       [  100,   167,   136,    72,    91,   113,   233,    94,    42,\n",
       "          961,     8,  1978,  7717,   228],\n",
       "       [  272,   270,    79,    66,    42,   119,   309,    67,    19,\n",
       "          547,    12,  1563,  1956,  3420]])"
      ]
     },
     "execution_count": 71,
     "metadata": {},
     "output_type": "execute_result"
    }
   ],
   "source": [
    "confusion_matrix(y_test, prediction)"
   ]
  },
  {
   "cell_type": "code",
   "execution_count": 72,
   "metadata": {},
   "outputs": [
    {
     "data": {
      "image/png": "[encoded data removed]",
      "text/plain": [
       "<Figure size 432x288 with 2 Axes>"
      ]
     },
     "metadata": {
      "needs_background": "light"
     },
     "output_type": "display_data"
    }
   ],
   "source": [
    "sns.heatmap(confusion_matrix(y_test, prediction))\n",
    "plt.title(\"Heatmap of the confusion matrix - Naïve Bayes\")\n",
    "plt.show()"
   ]
  },
  {
   "cell_type": "markdown",
   "metadata": {},
   "source": [
    "## Random Undersampling + bagging model\n",
    "As there are less samples in class 14 (= WrittenWork) than other classes, I will try with a raondom undersampling method. Also this data set contains unique \"Name\" in each row, using bagging would make sense.\n",
    "__Pros__\n",
    "- The model can be trained in balanced data\n",
    "- Because of bagging, the model can be trained on subsets of training data\n",
    "\n",
    "__Cons__\n",
    "- Because of random undersampling, the important characteristics of each classes might not be able to extracted comparison to no resampling method\n",
    "- Computationally more expensive than bare Naïve bayes model\n",
    "\n",
    "As a result, it improved quite a bit for the minor class (=14), however worse off in most other classes, especially the model is misclassifying \"Company\" names as \"Vilage\" and \"Animal\" names, which is quite interesting for human as Company names do sound different from both Village and Animal names. \n",
    "\n",
    "It would still depend on how important to classify class = 14 correctly, but I feel Naïve Bayes model is still doing better in general."
   ]
  },
  {
   "cell_type": "code",
   "execution_count": 79,
   "metadata": {},
   "outputs": [],
   "source": [
    "bbc_clf = Pipeline([('vect', CountVectorizer()),\n",
    "                     ('tfidf', TfidfTransformer()),\n",
    "                     ('clf', BalancedBaggingClassifier(base_estimator=MultinomialNB(alpha=1),\n",
    "                                                       random_state=42)),])"
   ]
  },
  {
   "cell_type": "code",
   "execution_count": 80,
   "metadata": {},
   "outputs": [],
   "source": [
    "bbc_clf.fit(X_train, y_train)\n",
    "prediction_train = bbc_clf.predict(X_train)\n",
    "prediction = bbc_clf.predict(X_test)"
   ]
  },
  {
   "cell_type": "code",
   "execution_count": 81,
   "metadata": {},
   "outputs": [
    {
     "name": "stdout",
     "output_type": "stream",
     "text": [
      "Accuracy for training set is 0.8717\n",
      "Accuracy for test set is 0.6819\n"
     ]
    }
   ],
   "source": [
    "print(\"Accuracy for training set is \" + str(round(accuracy_score(y_train, prediction_train),4)))\n",
    "print(\"Accuracy for test set is \" + str(round(accuracy_score(y_test, prediction),4)))"
   ]
  },
  {
   "cell_type": "code",
   "execution_count": 82,
   "metadata": {},
   "outputs": [
    {
     "data": {
      "text/plain": [
       "array([[ 8855,   461,   126,   111,   154,   383,   602,    79,    39,\n",
       "           17,    11,   438,   232,   446],\n",
       "       [  135, 11554,     8,     8,    16,    13,   249,    10,     4,\n",
       "            0,     2,    12,    20,    37],\n",
       "       [  835,   158,  4344,  2642,  2710,   157,   240,   117,   100,\n",
       "           23,    22,   321,   211,   111],\n",
       "       [  645,   111,  1991,  6191,  2260,    97,   169,    70,   101,\n",
       "           23,    13,    92,   117,    50],\n",
       "       [  564,   177,  1887,  2191,  6479,   109,   304,    53,   118,\n",
       "           18,     8,    88,   119,    56],\n",
       "       [  463,    91,    87,    78,   109, 10584,   115,    38,    20,\n",
       "           25,     9,   126,   106,    94],\n",
       "       [  409,   547,    29,    19,    30,    66, 10443,    95,    26,\n",
       "            6,     1,    97,   103,   139],\n",
       "       [ 1657,   184,    29,    32,    31,    43,   326,  9231,    63,\n",
       "           10,     8,    63,   124,    67],\n",
       "       [ 4658,   186,    31,    44,    57,    30,   220,   101,  6758,\n",
       "            4,     4,    39,    43,    21],\n",
       "       [ 3587,    45,    29,    18,    37,   151,    43,    91,    21,\n",
       "         7091,   462,    64,    95,   103],\n",
       "       [ 1842,    12,    18,     8,    11,    23,    17,    30,     3,\n",
       "          110,  9874,    21,    19,    21],\n",
       "       [  745,    75,    62,    46,    37,    81,   158,    51,    16,\n",
       "           16,    15,  8737,  1037,   901],\n",
       "       [ 1032,   154,   111,    77,    97,   101,   217,    88,    43,\n",
       "           25,     8,  1678,  6996,  1313],\n",
       "       [  709,   197,    62,    71,    34,   104,   213,    49,    20,\n",
       "           11,    12,  1027,  1111,  5121]])"
      ]
     },
     "execution_count": 82,
     "metadata": {},
     "output_type": "execute_result"
    }
   ],
   "source": [
    "confusion_matrix(y_test, prediction)"
   ]
  },
  {
   "cell_type": "code",
   "execution_count": 83,
   "metadata": {},
   "outputs": [
    {
     "data": {
      "image/png": "[encoded data removed]",
      "text/plain": [
       "<Figure size 432x288 with 2 Axes>"
      ]
     },
     "metadata": {
      "needs_background": "light"
     },
     "output_type": "display_data"
    }
   ],
   "source": [
    "sns.heatmap(confusion_matrix(y_test, prediction))\n",
    "plt.title(\"Heatmap of the confusion matrix\")\n",
    "plt.show()"
   ]
  },
  {
   "cell_type": "markdown",
   "metadata": {},
   "source": [
    "## FastText model\n",
    "FastText is a library for text classification. I will see if this helps to improve the score of Naïve Bayes model.\n",
    "\n",
    "__Pros__\n",
    "- Relatively fast and reliable model performance including for \"out of vocabulary (OOV)\" cases\n",
    "- Easy to use the high level library including some hyperparameters (learning rate and n-gram)\n",
    "\n",
    "__Cons__\n",
    "- Computationally more expensive than Naïve Bayes model and the model size tends to be big\n",
    "- Documentation is poorly done (in my opinion) and couldn't figure out how to do the proper evaluation of the model (if I had more time I could explore a bit more)\n",
    "\n",
    "Its accuracy is 0.7070 on the test set, which means successfully improved the score of Naïve Bayes. Yet since I couldn't figure out how to do the evaluation propoerly with this library, I will not use this model. But it is good to know that n-gram feture might be one of the reason why the model performance improved a bit so that I can try it with Naïve Bayes model. \n",
    "\n",
    "I did a little experiment with this model. I ran this model against some names and saw what will be the predicted class. When I tried with \"streetbees ltd\", it returned \"Company\" with likelihood of 0.9999. I think it is coming from \"ltd\". Also I tried with a bit mean example \"naoya inoue\", who is a Japanese boxer (there's no his name in the dataset), but the model successfully classified as \"Athlete\" with likelihood of 0.5777."
   ]
  },
  {
   "cell_type": "code",
   "execution_count": 102,
   "metadata": {},
   "outputs": [],
   "source": [
    "# Preparation\n",
    "ft_train_y, ft_test_y = y_train.apply(lambda x: '__label__' + str(x)), y_test.apply(lambda x: '__label__' + str(x))\n",
    "ft_train, ft_test = pd.concat([X_train, ft_train_y],1), pd.concat([X_test, ft_test_y],1)\n",
    "\n",
    "ft_train.to_csv(\"resources/data/train.txt\",\n",
    "                index = False,\n",
    "                sep = ' ',\n",
    "                header = None,\n",
    "                quoting = csv.QUOTE_NONE,\n",
    "                quotechar = \"\",\n",
    "                escapechar = \" \")\n",
    "\n",
    "ft_test.to_csv(\"resources/data/test.txt\",\n",
    "                index = False,\n",
    "                sep = ' ',\n",
    "                header = None,\n",
    "                quoting = csv.QUOTE_NONE,\n",
    "                quotechar = \"\",\n",
    "                escapechar = \" \")"
   ]
  },
  {
   "cell_type": "code",
   "execution_count": 103,
   "metadata": {},
   "outputs": [],
   "source": [
    "# Load pretrained vector\n",
    "def loadVectors(fname):\n",
    "    fin = io.open(fname, 'r', encoding='utf-8', newline='\\n', errors='ignore')\n",
    "    n, d = map(int, fin.readline().split())\n",
    "    data = {}\n",
    "    for line in fin:\n",
    "        tokens = line.rstrip().split(' ')\n",
    "        data[tokens[0]] = map(float, tokens[1:])\n",
    "    return data"
   ]
  },
  {
   "cell_type": "code",
   "execution_count": 105,
   "metadata": {},
   "outputs": [],
   "source": [
    "ft_model = fasttext.train_supervised(input=\"resources/data/train.txt\", \n",
    "                                     wordNgrams=2,\n",
    "                                     lr=.07\n",
    "                                    )"
   ]
  },
  {
   "cell_type": "code",
   "execution_count": 108,
   "metadata": {},
   "outputs": [],
   "source": [
    "ft_model.save_model(\"resources/models/fasttext_model.bin\")"
   ]
  },
  {
   "cell_type": "code",
   "execution_count": 110,
   "metadata": {},
   "outputs": [
    {
     "name": "stdout",
     "output_type": "stream",
     "text": [
      "Accuracy on the test set is 0.9949733177144344\n"
     ]
    }
   ],
   "source": [
    "score = ft_model.test(\"resources/data/train.txt\")\n",
    "print(\"Accuracy on the test set is \" +\n",
    "      str(2*score[1]*score[2]/(score[1]+score[2])))"
   ]
  },
  {
   "cell_type": "code",
   "execution_count": 107,
   "metadata": {},
   "outputs": [
    {
     "name": "stdout",
     "output_type": "stream",
     "text": [
      "Accuracy on the test set is 0.7070281892891634\n"
     ]
    }
   ],
   "source": [
    "score = ft_model.test(\"resources/data/test.txt\")\n",
    "print(\"Accuracy on the test set is \" +\n",
    "      str(2*score[1]*score[2]/(score[1]+score[2])))"
   ]
  },
  {
   "cell_type": "code",
   "execution_count": 109,
   "metadata": {},
   "outputs": [
    {
     "data": {
      "text/plain": [
       "(('__label__1',), array([0.99999237]))"
      ]
     },
     "execution_count": 109,
     "metadata": {},
     "output_type": "execute_result"
    }
   ],
   "source": [
    "ft_model.predict('streetbees ltd')"
   ]
  },
  {
   "cell_type": "code",
   "execution_count": 113,
   "metadata": {},
   "outputs": [
    {
     "data": {
      "text/plain": [
       "(('__label__4',), array([0.57767749]))"
      ]
     },
     "execution_count": 113,
     "metadata": {},
     "output_type": "execute_result"
    }
   ],
   "source": [
    "ft_model.predict('naoya inoue')"
   ]
  },
  {
   "cell_type": "markdown",
   "metadata": {},
   "source": [
    "## Flair model\n",
    "Similar to FastText, Flair is a NLP library. But this is known to be better than FastText in terms of model performance.\n",
    "__Pros__\n",
    "- Better model performance\n",
    "- Can make use of \"Flair embeddings\" so that quite rubust for OOV cases as well\n",
    "- Good documentation (compared to FastText)\n",
    "\n",
    "__Cons__\n",
    "- Computationally very expensive\n",
    "- it couldn't run in my computer (I should have tried this on cloud or I could try with random undersampled data)"
   ]
  },
  {
   "cell_type": "code",
   "execution_count": 78,
   "metadata": {},
   "outputs": [],
   "source": [
    "# Preparation\n",
    "ft_train_y, ft_test_y = y_train.apply(lambda x: '__label__' + str(x)), y_test.apply(lambda x: '__label__' + str(x))\n",
    "ft_train, ft_test = pd.concat([ft_train_y,X_train],1), pd.concat([ft_test_y,X_test],1)\n",
    "\n",
    "ft_train.columns = ['label','text']\n",
    "ft_test.columns = ['label','text']\n",
    "\n",
    "ft_train.iloc[0:int(len(ft_train)*0.8)].to_csv(\"resources/data/train_flair.csv\", \n",
    "                                           sep='\\t', \n",
    "                                           index = False, \n",
    "                                           header = False)\n",
    "\n",
    "ft_train.iloc[int(len(ft_train)*0.8):].to_csv(\"resources/data/dev_flair.csv\", \n",
    "                                           sep='\\t', \n",
    "                                           index = False, \n",
    "                                           header = False)\n",
    "                \n",
    "\n",
    "ft_test.to_csv(\"resources/data/test_flair.csv\",\n",
    "               sep='\\t',\n",
    "               index = False,\n",
    "               header = False)"
   ]
  },
  {
   "cell_type": "code",
   "execution_count": 9,
   "metadata": {},
   "outputs": [
    {
     "name": "stdout",
     "output_type": "stream",
     "text": [
      "2021-02-10 20:36:42,529 Reading data from resources/data\n",
      "2021-02-10 20:36:42,533 Train: resources/data/train_flair.csv\n",
      "2021-02-10 20:36:42,534 Dev: resources/data/dev_flair.csv\n",
      "2021-02-10 20:36:42,535 Test: resources/data/test_flair.csv\n"
     ]
    }
   ],
   "source": [
    "column_name_map = {0:\"label\", 1:\"text\"}\n",
    "corpus = CSVClassificationCorpus(Path('./resources/data/'),\n",
    "                                 column_name_map=column_name_map,\n",
    "                                 train_file='train_flair.csv',\n",
    "                                 dev_file='dev_flair.csv',\n",
    "                                 test_file='test_flair.csv',\n",
    "                                 skip_header=True,\n",
    "                                 delimiter=' ')"
   ]
  },
  {
   "cell_type": "code",
   "execution_count": 10,
   "metadata": {},
   "outputs": [
    {
     "name": "stdout",
     "output_type": "stream",
     "text": [
      "2021-02-10 20:36:44,048 Computing label dictionary. Progress:\n"
     ]
    },
    {
     "name": "stderr",
     "output_type": "stream",
     "text": [
      "100%|██████████| 417264/417264 [01:23<00:00, 4971.16it/s]IOPub data rate exceeded.\n",
      "The notebook server will temporarily stop sending output\n",
      "to the client in order to avoid crashing it.\n",
      "To change this limit, set the config variable\n",
      "`--NotebookApp.iopub_data_rate_limit`.\n",
      "\n",
      "Current values:\n",
      "NotebookApp.iopub_data_rate_limit=1000000.0 (bytes/sec)\n",
      "NotebookApp.rate_limit_window=3.0 (secs)\n",
      "\n",
      "\n"
     ]
    }
   ],
   "source": [
    "label_dict_csv = corpus.make_label_dictionary()"
   ]
  },
  {
   "cell_type": "code",
   "execution_count": 11,
   "metadata": {},
   "outputs": [
    {
     "name": "stderr",
     "output_type": "stream",
     "text": [
      "<ipython-input-11-da5b3f9fc6fb>:2: DeprecationWarning: Call to deprecated method __init__. (The functionality of this class is moved to 'DocumentRNNEmbeddings') -- Deprecated since version 0.4.\n",
      "  document_embeddings = DocumentLSTMEmbeddings(word_embeddings, hidden_size=512, reproject_words=True, reproject_words_dimension=256)\n"
     ]
    }
   ],
   "source": [
    "word_embeddings = [WordEmbeddings('glove'), FlairEmbeddings('news-forward-fast'), FlairEmbeddings('news-backward-fast')]\n",
    "document_embeddings = DocumentLSTMEmbeddings(word_embeddings, hidden_size=512, reproject_words=True, reproject_words_dimension=256)"
   ]
  },
  {
   "cell_type": "code",
   "execution_count": 12,
   "metadata": {},
   "outputs": [],
   "source": [
    "classifier = TextClassifier(document_embeddings, \n",
    "                            label_dictionary=label_dict_csv, \n",
    "                            multi_label=False)\n",
    "\n",
    "trainer = ModelTrainer(classifier, corpus)"
   ]
  },
  {
   "cell_type": "code",
   "execution_count": null,
   "metadata": {},
   "outputs": [
    {
     "name": "stdout",
     "output_type": "stream",
     "text": [
      "2021-02-10 20:38:36,511 ----------------------------------------------------------------------------------------------------\n",
      "2021-02-10 20:38:36,513 Model: \"TextClassifier(\n",
      "  (document_embeddings): DocumentLSTMEmbeddings(\n",
      "    (embeddings): StackedEmbeddings(\n",
      "      (list_embedding_0): WordEmbeddings('glove')\n",
      "      (list_embedding_1): FlairEmbeddings(\n",
      "        (lm): LanguageModel(\n",
      "          (drop): Dropout(p=0.25, inplace=False)\n",
      "          (encoder): Embedding(275, 100)\n",
      "          (rnn): LSTM(100, 1024)\n",
      "          (decoder): Linear(in_features=1024, out_features=275, bias=True)\n",
      "        )\n",
      "      )\n",
      "      (list_embedding_2): FlairEmbeddings(\n",
      "        (lm): LanguageModel(\n",
      "          (drop): Dropout(p=0.25, inplace=False)\n",
      "          (encoder): Embedding(275, 100)\n",
      "          (rnn): LSTM(100, 1024)\n",
      "          (decoder): Linear(in_features=1024, out_features=275, bias=True)\n",
      "        )\n",
      "      )\n",
      "    )\n",
      "    (word_reprojection_map): Linear(in_features=2148, out_features=256, bias=True)\n",
      "    (rnn): GRU(256, 512)\n",
      "    (dropout): Dropout(p=0.5, inplace=False)\n",
      "  )\n",
      "  (decoder): Linear(in_features=512, out_features=150452, bias=True)\n",
      "  (loss_function): CrossEntropyLoss()\n",
      "  (beta): 1.0\n",
      "  (weights): None\n",
      "  (weight_tensor) None\n",
      ")\"\n",
      "2021-02-10 20:38:36,513 ----------------------------------------------------------------------------------------------------\n",
      "2021-02-10 20:38:36,514 Corpus: \"Corpus: 271784 train + 67775 dev + 145480 test sentences\"\n",
      "2021-02-10 20:38:36,515 ----------------------------------------------------------------------------------------------------\n",
      "2021-02-10 20:38:36,516 Parameters:\n",
      "2021-02-10 20:38:36,516  - learning_rate: \"0.1\"\n",
      "2021-02-10 20:38:36,517  - mini_batch_size: \"32\"\n",
      "2021-02-10 20:38:36,518  - patience: \"3\"\n",
      "2021-02-10 20:38:36,519  - anneal_factor: \"0.5\"\n",
      "2021-02-10 20:38:36,520  - max_epochs: \"10\"\n",
      "2021-02-10 20:38:36,521  - shuffle: \"True\"\n",
      "2021-02-10 20:38:36,522  - train_with_dev: \"False\"\n",
      "2021-02-10 20:38:36,522  - batch_growth_annealing: \"False\"\n",
      "2021-02-10 20:38:36,523 ----------------------------------------------------------------------------------------------------\n",
      "2021-02-10 20:38:36,524 Model training base path: \"resources/flair_logs\"\n",
      "2021-02-10 20:38:36,525 ----------------------------------------------------------------------------------------------------\n",
      "2021-02-10 20:38:36,526 Device: cpu\n",
      "2021-02-10 20:38:36,527 ----------------------------------------------------------------------------------------------------\n",
      "2021-02-10 20:38:36,528 Embeddings storage mode: cpu\n",
      "2021-02-10 20:38:36,531 ----------------------------------------------------------------------------------------------------\n",
      "2021-02-10 20:50:08,908 epoch 1 - iter 849/8494 - loss 11.59556938 - samples/sec: 40.34 - lr: 0.100000\n",
      "2021-02-10 21:01:22,069 epoch 1 - iter 1698/8494 - loss 11.25054417 - samples/sec: 40.45 - lr: 0.100000\n",
      "2021-02-10 21:12:07,789 epoch 1 - iter 2547/8494 - loss 11.07409880 - samples/sec: 42.32 - lr: 0.100000\n",
      "2021-02-10 21:22:41,319 epoch 1 - iter 3396/8494 - loss 10.95372409 - samples/sec: 42.96 - lr: 0.100000\n",
      "2021-02-10 21:33:13,809 epoch 1 - iter 4245/8494 - loss 10.86996771 - samples/sec: 43.03 - lr: 0.100000\n",
      "2021-02-10 21:43:55,694 epoch 1 - iter 5094/8494 - loss 10.79858419 - samples/sec: 42.40 - lr: 0.100000\n",
      "2021-02-10 21:54:30,415 epoch 1 - iter 5943/8494 - loss 10.73769365 - samples/sec: 42.89 - lr: 0.100000\n",
      "2021-02-10 22:05:04,289 epoch 1 - iter 6792/8494 - loss 10.68520923 - samples/sec: 43.16 - lr: 0.100000\n",
      "2021-02-10 22:15:37,904 epoch 1 - iter 7641/8494 - loss 10.64019190 - samples/sec: 42.95 - lr: 0.100000\n",
      "2021-02-10 22:26:08,857 epoch 1 - iter 8490/8494 - loss 10.60133753 - samples/sec: 43.14 - lr: 0.100000\n",
      "2021-02-10 22:26:18,399 ----------------------------------------------------------------------------------------------------\n",
      "2021-02-10 22:26:18,428 EPOCH 1 done: loss 10.6010 - lr 0.1000000\n"
     ]
    }
   ],
   "source": [
    "trainer.train('./resources/flair_logs/', max_epochs=10)"
   ]
  },
  {
   "cell_type": "code",
   "execution_count": null,
   "metadata": {},
   "outputs": [],
   "source": []
  }
 ],
 "metadata": {
  "kernelspec": {
   "display_name": "Python 3",
   "language": "python",
   "name": "python3"
  },
  "language_info": {
   "codemirror_mode": {
    "name": "ipython",
    "version": 3
   },
   "file_extension": ".py",
   "mimetype": "text/x-python",
   "name": "python",
   "nbconvert_exporter": "python",
   "pygments_lexer": "ipython3",
   "version": "3.8.5"
  }
 },
 "nbformat": 4,
 "nbformat_minor": 4
}
